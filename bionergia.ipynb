{
  "nbformat": 4,
  "nbformat_minor": 0,
  "metadata": {
    "colab": {
      "provenance": [],
      "authorship_tag": "ABX9TyP+Vsuo5i5w8Bdu8d2pJaWL",
      "include_colab_link": true
    },
    "kernelspec": {
      "name": "python3",
      "display_name": "Python 3"
    },
    "language_info": {
      "name": "python"
    }
  },
  "cells": [
    {
      "cell_type": "markdown",
      "metadata": {
        "id": "view-in-github",
        "colab_type": "text"
      },
      "source": [
        "<a href=\"https://colab.research.google.com/github/anamacam/machine_learning/blob/master/bionergia.ipynb\" target=\"_parent\"><img src=\"https://colab.research.google.com/assets/colab-badge.svg\" alt=\"Open In Colab\"/></a>"
      ]
    },
    {
      "cell_type": "code",
      "execution_count": 12,
      "metadata": {
        "id": "dnpEHQ6sS0fJ"
      },
      "outputs": [],
      "source": [
        "import pandas as pd\n",
        "import matplotlib.pyplot as plt\n",
        "import seaborn as sns"
      ]
    },
    {
      "source": [
        "from google.colab import drive\n",
        "drive.mount('/content/drive')\n",
        "\n",
        "# Update datos with full paths to files\n",
        "# The issue is likely with the file paths. Ensure they are correct and consider replacing special characters.\n",
        "datos = [\n",
        "    '/content/drive/MyDrive/IA-Rendimiento Agrícola /Data/bioenergia/biomasa.xlsm',\n",
        "    '/content/drive/MyDrive/IA-Rendimiento Agrícola /Data/bioenergia/eolica.xlsm',\n",
        "    '/content/drive/MyDrive/IA-Rendimiento Agrícola /Data/bioenergia/fosiles.xlsm'\n",
        "]  # Replace with your actual paths if needed\n",
        "\n",
        "dfs = [pd.read_excel(file) for file in datos]  # Read each file into a DataFrame\n",
        "print(dfs)"
      ],
      "cell_type": "code",
      "metadata": {
        "colab": {
          "base_uri": "https://localhost:8080/"
        },
        "id": "_DGzbPC6jN7g",
        "outputId": "4590f14a-b7e2-47fc-bdcd-e28f2194fe7e"
      },
      "execution_count": 18,
      "outputs": [
        {
          "output_type": "stream",
          "name": "stdout",
          "text": [
            "Drive already mounted at /content/drive; to attempt to forcibly remount, call drive.mount(\"/content/drive\", force_remount=True).\n",
            "[                       Planta Tipo Despacho  Generación [GWh]      Part.[%]\n",
            "0                   INCAUCA 1            ND        222.858337  2.035692e-03\n",
            "1                  MAYAGUEZ 1            ND        173.768706  1.587284e-03\n",
            "2         INGENIO PROVIDENCIA            ND        139.906400  1.277970e-03\n",
            "3         INGENIO RISARALDA 1            ND        124.704015  1.139105e-03\n",
            "4         COGENERADOR PROENCA            ND         92.412508  8.441389e-04\n",
            "5                   BIOENERGY            ND         91.896796  8.394282e-04\n",
            "6          INGENIO RIOPAILA 1            ND         90.787582  8.292961e-04\n",
            "7       COGENERADOR PROENCA 1            ND         58.470264  5.340946e-04\n",
            "8     COGENERADOR MANUELITA 2            ND         58.154368  5.312091e-04\n",
            "9     AUTOG INGENIO CARMELITA            ND         29.763310  2.718719e-04\n",
            "10       INGENIO SAN CARLOS 1            ND         12.759675  1.165528e-04\n",
            "11         CENTRAL CASTILLA 1            ND         11.897128  1.086739e-04\n",
            "12  AGPE INGENIO DE OCCIDENTE            ND          8.140774  7.436163e-05\n",
            "13         INGENIO PICHICHI 1            ND          5.045292  4.608605e-05\n",
            "14           AUTOG PTAR BELLO            ND          4.109590  3.753891e-05\n",
            "15                 DOÑA JUANA            ND          2.629693  2.402084e-05\n",
            "16            AUTOG YAGUARITO            ND          0.937526  8.563803e-06\n",
            "17  AUTOG INGENIO MARIA LUISA            ND          0.704400  6.434314e-06\n",
            "18           AGPE ENTREPALMAS            ND          0.169291  1.546386e-06\n",
            "19       INGENIO LA CARMELITA            ND          0.073676  6.729880e-07\n",
            "20          TEQUENDAMA BIOGAS            ND          0.009519  8.695098e-08,                     Planta Tipo Despacho  Generación [GWh]  Part.[%]\n",
            "0  PARQUE EOLICO GUAJIRA I            ND        132.982651  0.001215\n",
            "1     PARQUE EÓLICO WESP01            ND         86.699218  0.000792\n",
            "2         JEPIRACHI 1 - 15            ND         37.851637  0.000346,                 Planta Tipo Despacho  Generación [GWh]      Part.[%]\n",
            "0            TEBSAB CC            DC       4547.976903  4.154334e-02\n",
            "1           GECELCA 32            DC       1899.189950  1.734809e-02\n",
            "2          FLORES 4 CC            DC       1684.733754  1.538914e-02\n",
            "3              PAIPA 4            DC       1304.774367  1.191842e-02\n",
            "4           TASAJERO 2            DC       1260.841495  1.151711e-02\n",
            "..                 ...           ...               ...           ...\n",
            "61         CARTAGENA 3            DC          0.353262  3.226860e-06\n",
            "62  PAPELES NACIONALES            ND          0.305581  2.791324e-06\n",
            "63     AUTOG COSTAYACO            ND          0.302144  2.759920e-06\n",
            "64              PTAR 1            ND          0.005551  5.070314e-08\n",
            "65      AUTOG FERTICOL            ND          0.000000  0.000000e+00\n",
            "\n",
            "[66 rows x 4 columns]]\n"
          ]
        }
      ]
    },
    {
      "cell_type": "code",
      "source": [
        "# Revisar las primeras filas de cada DataFrame\n",
        "\n",
        "for i, df in enumerate(dfs):\n",
        "  print(f\"First 5 rows of DataFrame {i+1}:\")\n",
        "  print(df.head())\n",
        "  print(\"\\n\")\n"
      ],
      "metadata": {
        "colab": {
          "base_uri": "https://localhost:8080/"
        },
        "id": "roqxd4AmmKPy",
        "outputId": "ef8855b7-5dd4-4ce7-dcee-9c89fbabb059"
      },
      "execution_count": 25,
      "outputs": [
        {
          "output_type": "stream",
          "name": "stdout",
          "text": [
            "First 5 rows of DataFrame 1:\n",
            "                Planta Tipo Despacho  Generación [GWh]  Part.[%]\n",
            "0            INCAUCA 1            ND        222.858337  0.002036\n",
            "1           MAYAGUEZ 1            ND        173.768706  0.001587\n",
            "2  INGENIO PROVIDENCIA            ND        139.906400  0.001278\n",
            "3  INGENIO RISARALDA 1            ND        124.704015  0.001139\n",
            "4  COGENERADOR PROENCA            ND         92.412508  0.000844\n",
            "\n",
            "\n",
            "First 5 rows of DataFrame 2:\n",
            "                    Planta Tipo Despacho  Generación [GWh]  Part.[%]\n",
            "0  PARQUE EOLICO GUAJIRA I            ND        132.982651  0.001215\n",
            "1     PARQUE EÓLICO WESP01            ND         86.699218  0.000792\n",
            "2         JEPIRACHI 1 - 15            ND         37.851637  0.000346\n",
            "\n",
            "\n",
            "First 5 rows of DataFrame 3:\n",
            "        Planta Tipo Despacho  Generación [GWh]  Part.[%]\n",
            "0    TEBSAB CC            DC       4547.976903  0.041543\n",
            "1   GECELCA 32            DC       1899.189950  0.017348\n",
            "2  FLORES 4 CC            DC       1684.733754  0.015389\n",
            "3      PAIPA 4            DC       1304.774367  0.011918\n",
            "4   TASAJERO 2            DC       1260.841495  0.011517\n",
            "\n",
            "\n"
          ]
        }
      ]
    },
    {
      "cell_type": "code",
      "source": [
        "# Verificar valores nulos y duplicados\n",
        "\n",
        "for i, df in enumerate(dfs):\n",
        "  print(f\"DataFrame {i+1}:\")\n",
        "  print(\"Null values:\")\n",
        "  print(df.isnull().sum())\n",
        "  print(\"\\nDuplicate rows:\")\n",
        "  print(df[df.duplicated()])\n",
        "  print(\"\\n\")\n"
      ],
      "metadata": {
        "colab": {
          "base_uri": "https://localhost:8080/"
        },
        "id": "1miJhAAKmSOr",
        "outputId": "1378dc9e-2931-43e8-9983-eadc0b58b0c2"
      },
      "execution_count": 26,
      "outputs": [
        {
          "output_type": "stream",
          "name": "stdout",
          "text": [
            "DataFrame 1:\n",
            "Null values:\n",
            "Planta              0\n",
            "Tipo Despacho       0\n",
            "Generación [GWh]    0\n",
            "Part.[%]            0\n",
            "dtype: int64\n",
            "\n",
            "Duplicate rows:\n",
            "Empty DataFrame\n",
            "Columns: [Planta, Tipo Despacho, Generación [GWh], Part.[%]]\n",
            "Index: []\n",
            "\n",
            "\n",
            "DataFrame 2:\n",
            "Null values:\n",
            "Planta              0\n",
            "Tipo Despacho       0\n",
            "Generación [GWh]    0\n",
            "Part.[%]            0\n",
            "dtype: int64\n",
            "\n",
            "Duplicate rows:\n",
            "Empty DataFrame\n",
            "Columns: [Planta, Tipo Despacho, Generación [GWh], Part.[%]]\n",
            "Index: []\n",
            "\n",
            "\n",
            "DataFrame 3:\n",
            "Null values:\n",
            "Planta              0\n",
            "Tipo Despacho       0\n",
            "Generación [GWh]    0\n",
            "Part.[%]            0\n",
            "dtype: int64\n",
            "\n",
            "Duplicate rows:\n",
            "Empty DataFrame\n",
            "Columns: [Planta, Tipo Despacho, Generación [GWh], Part.[%]]\n",
            "Index: []\n",
            "\n",
            "\n"
          ]
        }
      ]
    },
    {
      "cell_type": "code",
      "source": [
        "# Obtener estadísticas descriptivas de las columnas numéricas\n",
        "\n",
        "for i, df in enumerate(dfs):\n",
        "  print(f\"Descriptive statistics for numerical columns in DataFrame {i+1}:\")\n",
        "  print(df.describe(include=['number']))  # Only include numerical columns\n",
        "  print(\"\\n\")\n"
      ],
      "metadata": {
        "colab": {
          "base_uri": "https://localhost:8080/"
        },
        "id": "hNdK_2Efmbb7",
        "outputId": "9308fd25-3759-44b8-df39-a9c65f087ad8"
      },
      "execution_count": 27,
      "outputs": [
        {
          "output_type": "stream",
          "name": "stdout",
          "text": [
            "Descriptive statistics for numerical columns in DataFrame 1:\n",
            "       Generación [GWh]      Part.[%]\n",
            "count         21.000000  2.100000e+01\n",
            "mean          53.771374  4.911728e-04\n",
            "std           66.182719  6.045438e-04\n",
            "min            0.009519  8.695098e-08\n",
            "25%            2.629693  2.402084e-05\n",
            "50%           12.759675  1.165528e-04\n",
            "75%           91.896796  8.394282e-04\n",
            "max          222.858337  2.035692e-03\n",
            "\n",
            "\n",
            "Descriptive statistics for numerical columns in DataFrame 2:\n",
            "       Generación [GWh]  Part.[%]\n",
            "count          3.000000  3.000000\n",
            "mean          85.844502  0.000784\n",
            "std           47.571266  0.000435\n",
            "min           37.851637  0.000346\n",
            "25%           62.275428  0.000569\n",
            "50%           86.699218  0.000792\n",
            "75%          109.840935  0.001003\n",
            "max          132.982651  0.001215\n",
            "\n",
            "\n",
            "Descriptive statistics for numerical columns in DataFrame 3:\n",
            "       Generación [GWh]   Part.[%]\n",
            "count         66.000000  66.000000\n",
            "mean         369.340318   0.003374\n",
            "std          674.649329   0.006163\n",
            "min            0.000000   0.000000\n",
            "25%           22.759663   0.000208\n",
            "50%          155.162093   0.001417\n",
            "75%          409.160683   0.003737\n",
            "max         4547.976903   0.041543\n",
            "\n",
            "\n"
          ]
        }
      ]
    },
    {
      "source": [
        "# Distribución de la columna 'Generación [GWh]' para cada DataFrame\n",
        "\n",
        "\n",
        "plt.figure(figsize=(10,6))\n",
        "\n",
        "try:\n",
        "    df1, df2, df3 = dfs\n",
        "except ValueError:\n",
        "    print(\"Error: Make sure 'dfs' contains at least 3 DataFrames to unpack into df1, df2, df3.\")\n",
        "\n",
        "\n",
        "# Distribución de la columna 'Generación [GWh]' para cada DataFrame\n",
        "sns.histplot(df1['Generación [GWh]'], bins=20, kde=True, color='blue', label='DF1')\n",
        "sns.histplot(df2['Generación [GWh]'], bins=20, kde=True, color='green', label='DF2')\n",
        "sns.histplot(df3['Generación [GWh]'], bins=20, kde=True, color='red', label='DF3')\n",
        "\n",
        "plt.title('Distribución de la Generación [GWh]')\n",
        "plt.legend()\n",
        "plt.show()"
      ],
      "cell_type": "code",
      "metadata": {
        "colab": {
          "base_uri": "https://localhost:8080/",
          "height": 564
        },
        "id": "ZQF-N4jenAJx",
        "outputId": "5c610a89-fa5e-4e69-bb51-7945d563de7d"
      },
      "execution_count": 32,
      "outputs": [
        {
          "output_type": "display_data",
          "data": {
            "text/plain": [
              "<Figure size 1000x600 with 1 Axes>"
            ],
            "image/png": "[encoded data removed]"
          },
          "metadata": {}
        }
      ]
    },
    {
      "cell_type": "code",
      "source": [
        "# Comparar la participación porcentual de cada planta\n",
        "\n",
        "total_generation = []\n",
        "for df in dfs:\n",
        "  total_generation.append(df['Generación [GWh]'].sum())\n",
        "\n",
        "\n",
        "percentage_shares = []\n",
        "for i, df in enumerate(dfs):\n",
        "  plant_share = (df['Generación [GWh]'].sum() / sum(total_generation)) * 100\n",
        "  percentage_shares.append(plant_share)\n",
        "\n",
        "plant_types = ['Biomass', 'Wind', 'Fossil']\n",
        "comparison_df = pd.DataFrame({'Plant Type': plant_types, 'Percentage Share': percentage_shares})\n",
        "\n",
        "\n",
        "print(comparison_df)\n",
        "\n",
        "\n",
        "plt.figure(figsize=(8, 6))\n",
        "plt.bar(comparison_df['Plant Type'], comparison_df['Percentage Share'])\n",
        "plt.title('Percentage Share of Each Plant Type')\n",
        "plt.xlabel('Plant Type')\n",
        "plt.ylabel('Percentage Share (%)')\n",
        "plt.show()\n",
        "\n"
      ],
      "metadata": {
        "colab": {
          "base_uri": "https://localhost:8080/",
          "height": 633
        },
        "id": "r03laRjBn8TY",
        "outputId": "6c616d3d-ce52-48d6-bf21-1d224f2a3dd1"
      },
      "execution_count": 34,
      "outputs": [
        {
          "output_type": "stream",
          "name": "stdout",
          "text": [
            "  Plant Type  Percentage Share\n",
            "0    Biomass          4.382993\n",
            "1       Wind          0.999618\n",
            "2     Fossil         94.617389\n"
          ]
        },
        {
          "output_type": "display_data",
          "data": {
            "text/plain": [
              "<Figure size 800x600 with 1 Axes>"
            ],
            "image/png": "[encoded data removed]"
          },
          "metadata": {}
        }
      ]
    }
  ]
}