{
  "nbformat": 4,
  "nbformat_minor": 0,
  "metadata": {
    "colab": {
      "provenance": []
    },
    "kernelspec": {
      "name": "python3",
      "display_name": "Python 3"
    },
    "language_info": {
      "name": "python"
    }
  },
  "cells": [
    {
      "cell_type": "markdown",
      "source": [
        "# Modelos de Machine Learning\n",
        "\n",
        "## 1. Modelos de Aprendizaje Supervisado\n",
        "\n",
        "En estos modelos, se utilizan datos etiquetados para entrenar el modelo, es decir, cada ejemplo de entrenamiento viene con una etiqueta o valor objetivo.\n",
        "\n",
        "### a) Modelos de Clasificación (para variables categóricas)\n",
        "- **Regresión Logística**: Un modelo de clasificación binaria que utiliza una función logística para predecir la probabilidad de una clase.\n",
        "- **K-Nearest Neighbors (KNN)**: Clasifica un dato nuevo en función de la clase más común entre sus vecinos más cercanos.\n",
        "- **Support Vector Machines (SVM)**: Encuentra el hiperplano óptimo que separa las clases en un espacio multidimensional.\n",
        "- **Árboles de Decisión**: Utiliza un conjunto de reglas para clasificar los datos en función de sus características.\n",
        "- **Random Forest**: Es una combinación de múltiples árboles de decisión que se entrenan en subconjuntos de los datos.\n",
        "- **Gradient Boosting Machines (GBM)**: Mejora un modelo iterativamente construyendo árboles de decisión secuenciales.\n",
        "- **Naive Bayes**: Un clasificador probabilístico basado en el teorema de Bayes.\n",
        "\n",
        "### b) Modelos de Regresión (para variables continuas)\n",
        "- **Regresión Lineal**: Modela la relación entre una variable dependiente y una o más independientes mediante una línea recta.\n",
        "- **Regresión Polinómica**: Extiende la regresión lineal para capturar relaciones no lineales entre las variables.\n",
        "- **Lasso y Ridge Regression**: Son técnicas de regresión lineal regularizada para evitar el sobreajuste del modelo.\n",
        "- **Redes Neuronales Artificiales**: Modelos biológicamente inspirados que pueden capturar patrones complejos.\n",
        "\n",
        "## 2. Modelos de Aprendizaje No Supervisado\n",
        "\n",
        "En estos modelos, no se proporcionan etiquetas, y el algoritmo busca patrones ocultos o agrupamientos dentro de los datos.\n",
        "\n",
        "### a) Modelos de Clustering\n",
        "- **K-Means**: Agrupa los datos en K grupos, minimizando la distancia entre los puntos y el centroide del grupo.\n",
        "- **Mean Shift**: Un algoritmo basado en la estimación de densidad de datos para agrupar puntos de datos.\n",
        "- **DBSCAN (Density-Based Spatial Clustering)**: Agrupa puntos densamente conectados y marca los puntos aislados como ruido.\n",
        "- **Hierarchical Clustering**: Construye un árbol de clústeres (dendrograma) fusionando o dividiendo iterativamente los datos.\n",
        "\n",
        "### b) Reducción de Dimensionalidad\n",
        "- **PCA (Principal Component Analysis)**: Reduce la dimensionalidad de los datos mientras preserva la mayor cantidad posible de variación.\n",
        "- **t-SNE**: Un algoritmo de reducción de dimensionalidad que optimiza la representación visual de los datos en un espacio de baja dimensión.\n",
        "- **LDA (Linear Discriminant Analysis)**: Combina características linealmente para maximizar la separabilidad de clases.\n",
        "\n",
        "## 3. Modelos de Aprendizaje por Refuerzo\n",
        "\n",
        "En este tipo de aprendizaje, un agente interactúa con un entorno y aprende a tomar decisiones mediante recompensas y penalizaciones.\n",
        "\n",
        "- **Q-Learning**: Un algoritmo que aprende a maximizar la recompensa total asociada con una secuencia de acciones.\n",
        "- **Deep Q-Network (DQN)**: Una combinación de Q-learning y redes neuronales profundas.\n",
        "- **Proximal Policy Optimization (PPO)**: Un método de optimización de políticas que ajusta directamente las políticas para maximizar la recompensa.\n",
        "\n",
        "## 4. Modelos de Deep Learning (Aprendizaje Profundo)\n",
        "\n",
        "Son redes neuronales con muchas capas (capas profundas) y se utilizan para problemas complejos como imágenes, texto o series temporales.\n",
        "\n",
        "- **Redes Neuronales Convolucionales (CNN)**: Ideales para procesamiento de imágenes y reconocimiento de patrones visuales.\n",
        "- **Redes Neuronales Recurrentes (RNN)**: Especializadas para secuencias de datos, como texto o series temporales.\n",
        "- **Long Short-Term Memory (LSTM)**: Un tipo especial de RNN que maneja secuencias largas y recuerda dependencias a largo plazo.\n",
        "- **Autoencoders**: Usados para reducción de dimensionalidad o detección de anomalías.\n",
        "- **Generative Adversarial Networks (GANs)**: Redes neuronales que generan datos nuevos al competir entre dos modelos (generador y discriminador).\n",
        "\n",
        "## 5. Modelos de Ensamble\n",
        "\n",
        "Los modelos de ensamble combinan varios modelos individuales para mejorar la precisión y robustez.\n",
        "\n",
        "- **Bagging (Bootstrap Aggregating)**: Como Random Forest, que combina múltiples árboles de decisión.\n",
        "- **Boosting**: Modelos como AdaBoost, Gradient Boosting o XGBoost, que combinan modelos secuenciales, donde cada modelo corrige los errores de los anteriores.\n",
        "- **Stacking**: Combina diferentes tipos de modelos en capas, donde las predicciones de un conjunto de modelos son utilizadas como entradas para otros modelos.\n"
      ],
      "metadata": {
        "id": "cT7xUKk22pp-"
      }
    }
  ]
}